{
  "nbformat": 4,
  "nbformat_minor": 0,
  "metadata": {
    "colab": {
      "provenance": []
    },
    "kernelspec": {
      "name": "python3",
      "display_name": "Python 3"
    },
    "language_info": {
      "name": "python"
    }
  },
  "cells": [
    {
      "cell_type": "code",
      "source": [
        "pip install colorama"
      ],
      "metadata": {
        "colab": {
          "base_uri": "https://localhost:8080/"
        },
        "id": "Vgy3w7vJJ_wA",
        "outputId": "4259b7ec-be66-4a68-fc19-bc3da5e1e3d2"
      },
      "execution_count": null,
      "outputs": [
        {
          "output_type": "stream",
          "name": "stdout",
          "text": [
            "Looking in indexes: https://pypi.org/simple, https://us-python.pkg.dev/colab-wheels/public/simple/\n",
            "Collecting colorama\n",
            "  Downloading colorama-0.4.6-py2.py3-none-any.whl (25 kB)\n",
            "Installing collected packages: colorama\n",
            "Successfully installed colorama-0.4.6\n"
          ]
        }
      ]
    },
    {
      "cell_type": "code",
      "execution_count": null,
      "metadata": {
        "id": "0W_tMhMoESRW"
      },
      "outputs": [],
      "source": [
        "import pandas as pd\n",
        "import numpy as np\n",
        "from colorama import Fore, Back, Style\n",
        "from sklearn.model_selection import train_test_split, GridSearchCV\n",
        "from sklearn.ensemble import RandomForestClassifier\n",
        "from sklearn.metrics import accuracy_score, f1_score, classification_report\n",
        "import matplotlib.pyplot as plt\n",
        "import tensorflow as tf\n",
        "from tensorflow import keras"
      ]
    },
    {
      "cell_type": "code",
      "source": [
        "train_set = pd.read_csv(\"/content/train.csv\")\n",
        "test_set = pd.read_csv(\"/content/test.csv\")"
      ],
      "metadata": {
        "id": "2OaKZ4meHrZd"
      },
      "execution_count": null,
      "outputs": []
    },
    {
      "cell_type": "code",
      "source": [
        "train_set.head()"
      ],
      "metadata": {
        "colab": {
          "base_uri": "https://localhost:8080/",
          "height": 299
        },
        "id": "U6F8-oSqH85P",
        "outputId": "fa8db48c-c397-4cab-8689-7a0ee0e6c7ba"
      },
      "execution_count": null,
      "outputs": [
        {
          "output_type": "execute_result",
          "data": {
            "text/plain": [
              "   label  pixel0  pixel1  pixel2  pixel3  pixel4  pixel5  pixel6  pixel7  \\\n",
              "0      1       0       0       0       0       0       0       0       0   \n",
              "1      0       0       0       0       0       0       0       0       0   \n",
              "2      1       0       0       0       0       0       0       0       0   \n",
              "3      4       0       0       0       0       0       0       0       0   \n",
              "4      0       0       0       0       0       0       0       0       0   \n",
              "\n",
              "   pixel8  ...  pixel774  pixel775  pixel776  pixel777  pixel778  pixel779  \\\n",
              "0       0  ...         0         0         0         0         0         0   \n",
              "1       0  ...         0         0         0         0         0         0   \n",
              "2       0  ...         0         0         0         0         0         0   \n",
              "3       0  ...         0         0         0         0         0         0   \n",
              "4       0  ...         0         0         0         0         0         0   \n",
              "\n",
              "   pixel780  pixel781  pixel782  pixel783  \n",
              "0         0         0         0         0  \n",
              "1         0         0         0         0  \n",
              "2         0         0         0         0  \n",
              "3         0         0         0         0  \n",
              "4         0         0         0         0  \n",
              "\n",
              "[5 rows x 785 columns]"
            ],
            "text/html": [
              "\n",
              "  <div id=\"df-4bac94bc-be2e-4ec6-bd14-bb2bd5288696\">\n",
              "    <div class=\"colab-df-container\">\n",
              "      <div>\n",
              "<style scoped>\n",
              "    .dataframe tbody tr th:only-of-type {\n",
              "        vertical-align: middle;\n",
              "    }\n",
              "\n",
              "    .dataframe tbody tr th {\n",
              "        vertical-align: top;\n",
              "    }\n",
              "\n",
              "    .dataframe thead th {\n",
              "        text-align: right;\n",
              "    }\n",
              "</style>\n",
              "<table border=\"1\" class=\"dataframe\">\n",
              "  <thead>\n",
              "    <tr style=\"text-align: right;\">\n",
              "      <th></th>\n",
              "      <th>label</th>\n",
              "      <th>pixel0</th>\n",
              "      <th>pixel1</th>\n",
              "      <th>pixel2</th>\n",
              "      <th>pixel3</th>\n",
              "      <th>pixel4</th>\n",
              "      <th>pixel5</th>\n",
              "      <th>pixel6</th>\n",
              "      <th>pixel7</th>\n",
              "      <th>pixel8</th>\n",
              "      <th>...</th>\n",
              "      <th>pixel774</th>\n",
              "      <th>pixel775</th>\n",
              "      <th>pixel776</th>\n",
              "      <th>pixel777</th>\n",
              "      <th>pixel778</th>\n",
              "      <th>pixel779</th>\n",
              "      <th>pixel780</th>\n",
              "      <th>pixel781</th>\n",
              "      <th>pixel782</th>\n",
              "      <th>pixel783</th>\n",
              "    </tr>\n",
              "  </thead>\n",
              "  <tbody>\n",
              "    <tr>\n",
              "      <th>0</th>\n",
              "      <td>1</td>\n",
              "      <td>0</td>\n",
              "      <td>0</td>\n",
              "      <td>0</td>\n",
              "      <td>0</td>\n",
              "      <td>0</td>\n",
              "      <td>0</td>\n",
              "      <td>0</td>\n",
              "      <td>0</td>\n",
              "      <td>0</td>\n",
              "      <td>...</td>\n",
              "      <td>0</td>\n",
              "      <td>0</td>\n",
              "      <td>0</td>\n",
              "      <td>0</td>\n",
              "      <td>0</td>\n",
              "      <td>0</td>\n",
              "      <td>0</td>\n",
              "      <td>0</td>\n",
              "      <td>0</td>\n",
              "      <td>0</td>\n",
              "    </tr>\n",
              "    <tr>\n",
              "      <th>1</th>\n",
              "      <td>0</td>\n",
              "      <td>0</td>\n",
              "      <td>0</td>\n",
              "      <td>0</td>\n",
              "      <td>0</td>\n",
              "      <td>0</td>\n",
              "      <td>0</td>\n",
              "      <td>0</td>\n",
              "      <td>0</td>\n",
              "      <td>0</td>\n",
              "      <td>...</td>\n",
              "      <td>0</td>\n",
              "      <td>0</td>\n",
              "      <td>0</td>\n",
              "      <td>0</td>\n",
              "      <td>0</td>\n",
              "      <td>0</td>\n",
              "      <td>0</td>\n",
              "      <td>0</td>\n",
              "      <td>0</td>\n",
              "      <td>0</td>\n",
              "    </tr>\n",
              "    <tr>\n",
              "      <th>2</th>\n",
              "      <td>1</td>\n",
              "      <td>0</td>\n",
              "      <td>0</td>\n",
              "      <td>0</td>\n",
              "      <td>0</td>\n",
              "      <td>0</td>\n",
              "      <td>0</td>\n",
              "      <td>0</td>\n",
              "      <td>0</td>\n",
              "      <td>0</td>\n",
              "      <td>...</td>\n",
              "      <td>0</td>\n",
              "      <td>0</td>\n",
              "      <td>0</td>\n",
              "      <td>0</td>\n",
              "      <td>0</td>\n",
              "      <td>0</td>\n",
              "      <td>0</td>\n",
              "      <td>0</td>\n",
              "      <td>0</td>\n",
              "      <td>0</td>\n",
              "    </tr>\n",
              "    <tr>\n",
              "      <th>3</th>\n",
              "      <td>4</td>\n",
              "      <td>0</td>\n",
              "      <td>0</td>\n",
              "      <td>0</td>\n",
              "      <td>0</td>\n",
              "      <td>0</td>\n",
              "      <td>0</td>\n",
              "      <td>0</td>\n",
              "      <td>0</td>\n",
              "      <td>0</td>\n",
              "      <td>...</td>\n",
              "      <td>0</td>\n",
              "      <td>0</td>\n",
              "      <td>0</td>\n",
              "      <td>0</td>\n",
              "      <td>0</td>\n",
              "      <td>0</td>\n",
              "      <td>0</td>\n",
              "      <td>0</td>\n",
              "      <td>0</td>\n",
              "      <td>0</td>\n",
              "    </tr>\n",
              "    <tr>\n",
              "      <th>4</th>\n",
              "      <td>0</td>\n",
              "      <td>0</td>\n",
              "      <td>0</td>\n",
              "      <td>0</td>\n",
              "      <td>0</td>\n",
              "      <td>0</td>\n",
              "      <td>0</td>\n",
              "      <td>0</td>\n",
              "      <td>0</td>\n",
              "      <td>0</td>\n",
              "      <td>...</td>\n",
              "      <td>0</td>\n",
              "      <td>0</td>\n",
              "      <td>0</td>\n",
              "      <td>0</td>\n",
              "      <td>0</td>\n",
              "      <td>0</td>\n",
              "      <td>0</td>\n",
              "      <td>0</td>\n",
              "      <td>0</td>\n",
              "      <td>0</td>\n",
              "    </tr>\n",
              "  </tbody>\n",
              "</table>\n",
              "<p>5 rows × 785 columns</p>\n",
              "</div>\n",
              "      <button class=\"colab-df-convert\" onclick=\"convertToInteractive('df-4bac94bc-be2e-4ec6-bd14-bb2bd5288696')\"\n",
              "              title=\"Convert this dataframe to an interactive table.\"\n",
              "              style=\"display:none;\">\n",
              "        \n",
              "  <svg xmlns=\"http://www.w3.org/2000/svg\" height=\"24px\"viewBox=\"0 0 24 24\"\n",
              "       width=\"24px\">\n",
              "    <path d=\"M0 0h24v24H0V0z\" fill=\"none\"/>\n",
              "    <path d=\"M18.56 5.44l.94 2.06.94-2.06 2.06-.94-2.06-.94-.94-2.06-.94 2.06-2.06.94zm-11 1L8.5 8.5l.94-2.06 2.06-.94-2.06-.94L8.5 2.5l-.94 2.06-2.06.94zm10 10l.94 2.06.94-2.06 2.06-.94-2.06-.94-.94-2.06-.94 2.06-2.06.94z\"/><path d=\"M17.41 7.96l-1.37-1.37c-.4-.4-.92-.59-1.43-.59-.52 0-1.04.2-1.43.59L10.3 9.45l-7.72 7.72c-.78.78-.78 2.05 0 2.83L4 21.41c.39.39.9.59 1.41.59.51 0 1.02-.2 1.41-.59l7.78-7.78 2.81-2.81c.8-.78.8-2.07 0-2.86zM5.41 20L4 18.59l7.72-7.72 1.47 1.35L5.41 20z\"/>\n",
              "  </svg>\n",
              "      </button>\n",
              "      \n",
              "  <style>\n",
              "    .colab-df-container {\n",
              "      display:flex;\n",
              "      flex-wrap:wrap;\n",
              "      gap: 12px;\n",
              "    }\n",
              "\n",
              "    .colab-df-convert {\n",
              "      background-color: #E8F0FE;\n",
              "      border: none;\n",
              "      border-radius: 50%;\n",
              "      cursor: pointer;\n",
              "      display: none;\n",
              "      fill: #1967D2;\n",
              "      height: 32px;\n",
              "      padding: 0 0 0 0;\n",
              "      width: 32px;\n",
              "    }\n",
              "\n",
              "    .colab-df-convert:hover {\n",
              "      background-color: #E2EBFA;\n",
              "      box-shadow: 0px 1px 2px rgba(60, 64, 67, 0.3), 0px 1px 3px 1px rgba(60, 64, 67, 0.15);\n",
              "      fill: #174EA6;\n",
              "    }\n",
              "\n",
              "    [theme=dark] .colab-df-convert {\n",
              "      background-color: #3B4455;\n",
              "      fill: #D2E3FC;\n",
              "    }\n",
              "\n",
              "    [theme=dark] .colab-df-convert:hover {\n",
              "      background-color: #434B5C;\n",
              "      box-shadow: 0px 1px 3px 1px rgba(0, 0, 0, 0.15);\n",
              "      filter: drop-shadow(0px 1px 2px rgba(0, 0, 0, 0.3));\n",
              "      fill: #FFFFFF;\n",
              "    }\n",
              "  </style>\n",
              "\n",
              "      <script>\n",
              "        const buttonEl =\n",
              "          document.querySelector('#df-4bac94bc-be2e-4ec6-bd14-bb2bd5288696 button.colab-df-convert');\n",
              "        buttonEl.style.display =\n",
              "          google.colab.kernel.accessAllowed ? 'block' : 'none';\n",
              "\n",
              "        async function convertToInteractive(key) {\n",
              "          const element = document.querySelector('#df-4bac94bc-be2e-4ec6-bd14-bb2bd5288696');\n",
              "          const dataTable =\n",
              "            await google.colab.kernel.invokeFunction('convertToInteractive',\n",
              "                                                     [key], {});\n",
              "          if (!dataTable) return;\n",
              "\n",
              "          const docLinkHtml = 'Like what you see? Visit the ' +\n",
              "            '<a target=\"_blank\" href=https://colab.research.google.com/notebooks/data_table.ipynb>data table notebook</a>'\n",
              "            + ' to learn more about interactive tables.';\n",
              "          element.innerHTML = '';\n",
              "          dataTable['output_type'] = 'display_data';\n",
              "          await google.colab.output.renderOutput(dataTable, element);\n",
              "          const docLink = document.createElement('div');\n",
              "          docLink.innerHTML = docLinkHtml;\n",
              "          element.appendChild(docLink);\n",
              "        }\n",
              "      </script>\n",
              "    </div>\n",
              "  </div>\n",
              "  "
            ]
          },
          "metadata": {},
          "execution_count": 11
        }
      ]
    },
    {
      "cell_type": "code",
      "source": [
        "# Display 3 handwritten digits as exampples\n",
        "sample = []\n",
        "for i in range(3):\n",
        "    temp = np.array(train_set.iloc[i, 1:])\n",
        "    sample.append(np.reshape(temp, (28, 28)))\n",
        "    \n",
        "# Create a subplot to display images\n",
        "fig, (ax0, ax1, ax2) = plt.subplots(1, 3, figsize=(10, 3))\n",
        "ax0.imshow(sample[0], cmap='gray')\n",
        "ax1.imshow(sample[1], cmap='gray')\n",
        "ax2.imshow(sample[2], cmap='gray')"
      ],
      "metadata": {
        "colab": {
          "base_uri": "https://localhost:8080/",
          "height": 229
        },
        "id": "r9VJ4KtDIApl",
        "outputId": "8b4eecb7-6411-4f1c-aa36-ca3634d2550c"
      },
      "execution_count": null,
      "outputs": [
        {
          "output_type": "execute_result",
          "data": {
            "text/plain": [
              "<matplotlib.image.AxesImage at 0x7f7c7cfa3760>"
            ]
          },
          "metadata": {},
          "execution_count": 12
        },
        {
          "output_type": "display_data",
          "data": {
            "text/plain": [
              "<Figure size 720x216 with 3 Axes>"
            ],
            "image/png": "[encoded data removed]"
          },
          "metadata": {
            "needs_background": "light"
          }
        }
      ]
    },
    {
      "cell_type": "code",
      "source": [
        "# Divide train_set into the handwritten and label\n",
        "handwritten = train_set.iloc[:, 1:]\n",
        "label = train_set.iloc[:, 0]\n",
        "\n",
        "# Split the data into training and validation sets\n",
        "X_train, X_test, y_train, y_test = train_test_split(handwritten, label, test_size = .33, random_state=42)"
      ],
      "metadata": {
        "id": "SmdfpoaXIHSF"
      },
      "execution_count": null,
      "outputs": []
    },
    {
      "cell_type": "code",
      "source": [
        "# RandomForestClassifier\n",
        "# Tune the 'max_leaf_nodes' param\n",
        "\n",
        "train_f1_scores = []\n",
        "test_f1_scores = []\n",
        "\n",
        "max_leaf_candidates = np.arange(2, 200, 10)\n",
        "\n",
        "for i in max_leaf_candidates:\n",
        "    # Train the classifier\n",
        "    rfc = RandomForestClassifier(n_estimators=100, max_leaf_nodes=i).fit(X_train, y_train)\n",
        "    \n",
        "    # Calculate train_f1_score \n",
        "    train_preds = rfc.predict(X_train)\n",
        "    score0 = f1_score(y_train, train_preds, average='weighted')\n",
        "    train_f1_scores.append(score0)\n",
        "    \n",
        "    # Calculate test_f1_score\n",
        "    test_preds = rfc.predict(X_test)\n",
        "    score1 = f1_score(y_test, test_preds, average='weighted')\n",
        "    test_f1_scores.append(score1)\n",
        "\n",
        "plt.figure()\n",
        "plt.title(\"max_leaf_nodes against f1_score of RFC\")\n",
        "plt.xlabel(\"max_leaf_nodes values\")\n",
        "plt.ylabel(\"f1_scores\")\n",
        "plt.plot(max_leaf_candidates, train_f1_scores, label='train_score')\n",
        "plt.plot(max_leaf_candidates, test_f1_scores, label='test_score')\n",
        "plt.legend()\n",
        "plt.show()"
      ],
      "metadata": {
        "colab": {
          "base_uri": "https://localhost:8080/",
          "height": 296
        },
        "id": "EJjzWrCUIRGe",
        "outputId": "9ef89a62-17ae-4161-d251-40a870a09eea"
      },
      "execution_count": null,
      "outputs": [
        {
          "output_type": "display_data",
          "data": {
            "text/plain": [
              "<Figure size 432x288 with 1 Axes>"
            ],
            "image/png": "[encoded data removed]"
          },
          "metadata": {
            "needs_background": "light"
          }
        }
      ]
    },
    {
      "cell_type": "code",
      "source": [
        "# 1st Modeling \n",
        "rfc = RandomForestClassifier(n_estimators=100, max_leaf_nodes=25).fit(X_train, y_train)\n",
        "preds = rfc.predict(X_test)\n",
        "print(Fore.YELLOW + Back.BLACK + \"{:^{width}}\".format(\"Random Forest Classification Report:\", width=70))\n",
        "print(Fore.RESET + Back.RESET + classification_report(y_test, preds))"
      ],
      "metadata": {
        "colab": {
          "base_uri": "https://localhost:8080/"
        },
        "id": "9q9KZbmFIXiM",
        "outputId": "7df5a856-f550-4129-ec48-68e6594a7256"
      },
      "execution_count": null,
      "outputs": [
        {
          "output_type": "stream",
          "name": "stdout",
          "text": [
            "\u001b[33m\u001b[40m                 Random Forest Classification Report:                 \n",
            "\u001b[39m\u001b[49m              precision    recall  f1-score   support\n",
            "\n",
            "           0       0.88      0.97      0.92      1333\n",
            "           1       0.86      0.98      0.91      1520\n",
            "           2       0.88      0.84      0.86      1414\n",
            "           3       0.79      0.83      0.81      1471\n",
            "           4       0.87      0.81      0.84      1358\n",
            "           5       0.93      0.63      0.75      1205\n",
            "           6       0.87      0.89      0.88      1397\n",
            "           7       0.89      0.87      0.88      1480\n",
            "           8       0.85      0.80      0.83      1334\n",
            "           9       0.74      0.85      0.79      1348\n",
            "\n",
            "    accuracy                           0.85     13860\n",
            "   macro avg       0.86      0.85      0.85     13860\n",
            "weighted avg       0.85      0.85      0.85     13860\n",
            "\n"
          ]
        }
      ]
    },
    {
      "cell_type": "code",
      "source": [
        "del train_f1_scores\n",
        "del test_f1_scores\n",
        "del rfc"
      ],
      "metadata": {
        "id": "7bEY0hh-IgEB"
      },
      "execution_count": null,
      "outputs": []
    },
    {
      "cell_type": "code",
      "source": [
        "# RandomForestClassifier\n",
        "# Tune the 'max_depth' param\n",
        "\n",
        "train_f1_scores = []\n",
        "test_f1_scores = []\n",
        "\n",
        "max_depth_candidates = np.arange(1, 61, 5)\n",
        "\n",
        "for i in max_depth_candidates:\n",
        "    # Train the classifier\n",
        "    rfc = RandomForestClassifier(n_estimators=100, max_leaf_nodes=25, max_depth=i).fit(X_train, y_train)\n",
        "    \n",
        "    # Calculate train_f1_score \n",
        "    train_preds = rfc.predict(X_train)\n",
        "    score0 = f1_score(y_train, train_preds, average='weighted')\n",
        "    train_f1_scores.append(score0)  \n",
        "    # Calculate test_f1_score\n",
        "    test_preds = rfc.predict(X_test)\n",
        "    score1 = f1_score(y_test, test_preds, average='weighted')\n",
        "    test_f1_scores.append(score1)\n",
        "\n",
        "plt.figure(figsize=(15, 6))\n",
        "plt.title(\"max_depth against f1_score of RFC\")\n",
        "plt.xlabel(\"max_depth values\")\n",
        "plt.ylabel(\"f1_scores\")\n",
        "plt.xticks(range(1, 62))\n",
        "plt.plot(max_depth_candidates, train_f1_scores, label='train_score')\n",
        "plt.plot(max_depth_candidates, test_f1_scores, label='test_score')\n",
        "plt.legend()\n",
        "plt.show()\n",
        "#print(Fore.WHITE + Back.BLACK + f\"Prediction Accuracy = {accuracy_score(y_test, preds)}\")"
      ],
      "metadata": {
        "colab": {
          "base_uri": "https://localhost:8080/",
          "height": 405
        },
        "id": "u0BGdaSmIn1s",
        "outputId": "86839b44-599b-439c-8538-f0bff4506dd2"
      },
      "execution_count": null,
      "outputs": [
        {
          "output_type": "display_data",
          "data": {
            "text/plain": [
              "<Figure size 1080x432 with 1 Axes>"
            ],
            "image/png": "[encoded data removed]"
          },
          "metadata": {
            "needs_background": "light"
          }
        }
      ]
    },
    {
      "cell_type": "code",
      "source": [
        "# 2nd Modeling \n",
        "rfc = RandomForestClassifier(n_estimators=100, max_depth=6, max_leaf_nodes=25).fit(X_train, y_train)\n",
        "preds = rfc.predict(X_test)\n",
        "print(Fore.YELLOW + Back.BLACK + \"{:^{width}}\".format(\"Random Forest Classification Report:\", width=70))\n",
        "print(Fore.RESET + Back.RESET + classification_report(y_test, preds))"
      ],
      "metadata": {
        "colab": {
          "base_uri": "https://localhost:8080/"
        },
        "id": "-3UvfgJII63H",
        "outputId": "9acb85b3-d686-4111-883e-31d623366c12"
      },
      "execution_count": null,
      "outputs": [
        {
          "output_type": "stream",
          "name": "stdout",
          "text": [
            "\u001b[33m\u001b[40m                 Random Forest Classification Report:                 \n",
            "\u001b[39m\u001b[49m              precision    recall  f1-score   support\n",
            "\n",
            "           0       0.88      0.97      0.92      1333\n",
            "           1       0.85      0.98      0.91      1520\n",
            "           2       0.90      0.84      0.87      1414\n",
            "           3       0.82      0.83      0.82      1471\n",
            "           4       0.88      0.82      0.85      1358\n",
            "           5       0.90      0.66      0.76      1205\n",
            "           6       0.88      0.90      0.89      1397\n",
            "           7       0.87      0.88      0.88      1480\n",
            "           8       0.86      0.80      0.83      1334\n",
            "           9       0.73      0.83      0.78      1348\n",
            "\n",
            "    accuracy                           0.85     13860\n",
            "   macro avg       0.86      0.85      0.85     13860\n",
            "weighted avg       0.86      0.85      0.85     13860\n",
            "\n"
          ]
        }
      ]
    },
    {
      "cell_type": "code",
      "source": [
        "print(X_train.shape)\n",
        "print(X_test.shape)\n",
        "print(y_train.shape)\n",
        "print(y_test.shape)"
      ],
      "metadata": {
        "colab": {
          "base_uri": "https://localhost:8080/"
        },
        "id": "qFeOnRABI-NL",
        "outputId": "0dd21a23-6341-41ba-f2e4-34828096523b"
      },
      "execution_count": null,
      "outputs": [
        {
          "output_type": "stream",
          "name": "stdout",
          "text": [
            "(28140, 784)\n",
            "(13860, 784)\n",
            "(28140,)\n",
            "(13860,)\n"
          ]
        }
      ]
    },
    {
      "cell_type": "code",
      "source": [
        "# Reshape\n",
        "X_train = X_train.values.reshape(-1,28, 28, 1)\n",
        "X_test = X_test.values.reshape(-1, 28, 28, 1)\n",
        "\n",
        "# Normalize\n",
        "X_train = X_train/255.0\n",
        "X_test = X_test/255.0\n",
        "\n",
        "# Neural Network\n",
        "model = keras.Sequential([keras.layers.Conv2D(32, (3, 3), activation='relu', input_shape=(28, 28, 1)),\n",
        "                          keras.layers.AveragePooling2D((2, 2)),\n",
        "                          keras.layers.Conv2D(64, (3, 3), activation='relu'),\n",
        "                          keras.layers.AveragePooling2D((2, 2)),\n",
        "                          keras.layers.Flatten(),\n",
        "                          keras.layers.Dense(128, activation='relu'),\n",
        "                          keras.layers.Dropout(.5),\n",
        "                          keras.layers.Dense(10, activation='softmax')])\n",
        "\n",
        "# Compile\n",
        "model.compile(optimizer='adam',\n",
        "              metrics=['accuracy'], \n",
        "              loss='sparse_categorical_crossentropy')\n",
        "\n",
        "# Train\n",
        "history = model.fit(X_train, y_train, epochs=80, validation_data=(X_test, y_test))\n",
        "\n",
        "# Test\n",
        "loss, accuracy = model.evaluate(X_test, y_test, verbose=1)"
      ],
      "metadata": {
        "colab": {
          "base_uri": "https://localhost:8080/"
        },
        "id": "RJ5dzakCJAsC",
        "outputId": "8e6afee8-73df-4ab4-d62b-1b19791c8cc2"
      },
      "execution_count": null,
      "outputs": [
        {
          "output_type": "stream",
          "name": "stdout",
          "text": [
            "Epoch 1/80\n",
            "880/880 [==============================] - 34s 37ms/step - loss: 0.3678 - accuracy: 0.8886 - val_loss: 0.0933 - val_accuracy: 0.9711\n",
            "Epoch 2/80\n",
            "880/880 [==============================] - 32s 36ms/step - loss: 0.1323 - accuracy: 0.9608 - val_loss: 0.0716 - val_accuracy: 0.9783\n",
            "Epoch 3/80\n",
            "880/880 [==============================] - 34s 38ms/step - loss: 0.1027 - accuracy: 0.9692 - val_loss: 0.0578 - val_accuracy: 0.9823\n",
            "Epoch 4/80\n",
            "880/880 [==============================] - 32s 36ms/step - loss: 0.0837 - accuracy: 0.9741 - val_loss: 0.0551 - val_accuracy: 0.9823\n",
            "Epoch 5/80\n",
            "880/880 [==============================] - 32s 36ms/step - loss: 0.0713 - accuracy: 0.9786 - val_loss: 0.0424 - val_accuracy: 0.9864\n",
            "Epoch 6/80\n",
            "880/880 [==============================] - 31s 35ms/step - loss: 0.0578 - accuracy: 0.9813 - val_loss: 0.0508 - val_accuracy: 0.9835\n",
            "Epoch 7/80\n",
            "880/880 [==============================] - 34s 38ms/step - loss: 0.0517 - accuracy: 0.9836 - val_loss: 0.0419 - val_accuracy: 0.9880\n",
            "Epoch 8/80\n",
            "880/880 [==============================] - 30s 35ms/step - loss: 0.0464 - accuracy: 0.9854 - val_loss: 0.0439 - val_accuracy: 0.9870\n",
            "Epoch 9/80\n",
            "880/880 [==============================] - 32s 37ms/step - loss: 0.0425 - accuracy: 0.9874 - val_loss: 0.0432 - val_accuracy: 0.9860\n",
            "Epoch 10/80\n",
            "880/880 [==============================] - 32s 36ms/step - loss: 0.0384 - accuracy: 0.9876 - val_loss: 0.0447 - val_accuracy: 0.9869\n",
            "Epoch 11/80\n",
            "880/880 [==============================] - 32s 36ms/step - loss: 0.0360 - accuracy: 0.9876 - val_loss: 0.0487 - val_accuracy: 0.9866\n",
            "Epoch 12/80\n",
            "880/880 [==============================] - 30s 34ms/step - loss: 0.0309 - accuracy: 0.9907 - val_loss: 0.0403 - val_accuracy: 0.9884\n",
            "Epoch 13/80\n",
            "880/880 [==============================] - 32s 36ms/step - loss: 0.0282 - accuracy: 0.9911 - val_loss: 0.0361 - val_accuracy: 0.9898\n",
            "Epoch 14/80\n",
            "880/880 [==============================] - 32s 36ms/step - loss: 0.0269 - accuracy: 0.9913 - val_loss: 0.0363 - val_accuracy: 0.9899\n",
            "Epoch 15/80\n",
            "880/880 [==============================] - 31s 36ms/step - loss: 0.0245 - accuracy: 0.9917 - val_loss: 0.0359 - val_accuracy: 0.9903\n",
            "Epoch 16/80\n",
            "880/880 [==============================] - 32s 36ms/step - loss: 0.0236 - accuracy: 0.9920 - val_loss: 0.0367 - val_accuracy: 0.9900\n",
            "Epoch 17/80\n",
            "880/880 [==============================] - 32s 36ms/step - loss: 0.0214 - accuracy: 0.9924 - val_loss: 0.0357 - val_accuracy: 0.9900\n",
            "Epoch 18/80\n",
            "880/880 [==============================] - 31s 36ms/step - loss: 0.0206 - accuracy: 0.9926 - val_loss: 0.0378 - val_accuracy: 0.9910\n",
            "Epoch 19/80\n",
            "880/880 [==============================] - 32s 36ms/step - loss: 0.0182 - accuracy: 0.9940 - val_loss: 0.0404 - val_accuracy: 0.9899\n",
            "Epoch 20/80\n",
            "880/880 [==============================] - 32s 36ms/step - loss: 0.0181 - accuracy: 0.9941 - val_loss: 0.0363 - val_accuracy: 0.9905\n",
            "Epoch 21/80\n",
            "880/880 [==============================] - 30s 35ms/step - loss: 0.0169 - accuracy: 0.9942 - val_loss: 0.0455 - val_accuracy: 0.9891\n",
            "Epoch 22/80\n",
            "880/880 [==============================] - 30s 34ms/step - loss: 0.0152 - accuracy: 0.9948 - val_loss: 0.0376 - val_accuracy: 0.9904\n",
            "Epoch 23/80\n",
            "880/880 [==============================] - 32s 36ms/step - loss: 0.0147 - accuracy: 0.9951 - val_loss: 0.0454 - val_accuracy: 0.9888\n",
            "Epoch 24/80\n",
            "880/880 [==============================] - 32s 36ms/step - loss: 0.0133 - accuracy: 0.9957 - val_loss: 0.0406 - val_accuracy: 0.9898\n",
            "Epoch 25/80\n",
            "880/880 [==============================] - 31s 36ms/step - loss: 0.0143 - accuracy: 0.9950 - val_loss: 0.0402 - val_accuracy: 0.9900\n",
            "Epoch 26/80\n",
            "880/880 [==============================] - 30s 34ms/step - loss: 0.0131 - accuracy: 0.9953 - val_loss: 0.0415 - val_accuracy: 0.9899\n",
            "Epoch 27/80\n",
            "880/880 [==============================] - 30s 35ms/step - loss: 0.0134 - accuracy: 0.9952 - val_loss: 0.0438 - val_accuracy: 0.9901\n",
            "Epoch 28/80\n",
            "880/880 [==============================] - 31s 36ms/step - loss: 0.0137 - accuracy: 0.9957 - val_loss: 0.0369 - val_accuracy: 0.9910\n",
            "Epoch 29/80\n",
            "880/880 [==============================] - 32s 36ms/step - loss: 0.0120 - accuracy: 0.9960 - val_loss: 0.0365 - val_accuracy: 0.9908\n",
            "Epoch 30/80\n",
            "880/880 [==============================] - 31s 35ms/step - loss: 0.0107 - accuracy: 0.9963 - val_loss: 0.0418 - val_accuracy: 0.9909\n",
            "Epoch 31/80\n",
            "880/880 [==============================] - 32s 37ms/step - loss: 0.0110 - accuracy: 0.9958 - val_loss: 0.0438 - val_accuracy: 0.9905\n",
            "Epoch 32/80\n",
            "880/880 [==============================] - 32s 36ms/step - loss: 0.0103 - accuracy: 0.9965 - val_loss: 0.0425 - val_accuracy: 0.9906\n",
            "Epoch 33/80\n",
            "880/880 [==============================] - 31s 35ms/step - loss: 0.0092 - accuracy: 0.9968 - val_loss: 0.0406 - val_accuracy: 0.9916\n",
            "Epoch 34/80\n",
            "880/880 [==============================] - 30s 34ms/step - loss: 0.0118 - accuracy: 0.9964 - val_loss: 0.0378 - val_accuracy: 0.9918\n",
            "Epoch 35/80\n",
            "880/880 [==============================] - 32s 36ms/step - loss: 0.0090 - accuracy: 0.9969 - val_loss: 0.0431 - val_accuracy: 0.9914\n",
            "Epoch 36/80\n",
            "880/880 [==============================] - 30s 34ms/step - loss: 0.0077 - accuracy: 0.9974 - val_loss: 0.0459 - val_accuracy: 0.9907\n",
            "Epoch 37/80\n",
            "880/880 [==============================] - 30s 34ms/step - loss: 0.0076 - accuracy: 0.9974 - val_loss: 0.0440 - val_accuracy: 0.9907\n",
            "Epoch 38/80\n",
            "880/880 [==============================] - 32s 36ms/step - loss: 0.0093 - accuracy: 0.9967 - val_loss: 0.0459 - val_accuracy: 0.9905\n",
            "Epoch 39/80\n",
            "880/880 [==============================] - 32s 36ms/step - loss: 0.0094 - accuracy: 0.9969 - val_loss: 0.0466 - val_accuracy: 0.9920\n",
            "Epoch 40/80\n",
            "880/880 [==============================] - 32s 36ms/step - loss: 0.0078 - accuracy: 0.9973 - val_loss: 0.0402 - val_accuracy: 0.9916\n",
            "Epoch 41/80\n",
            "880/880 [==============================] - 30s 34ms/step - loss: 0.0079 - accuracy: 0.9973 - val_loss: 0.0396 - val_accuracy: 0.9919\n",
            "Epoch 42/80\n",
            "880/880 [==============================] - 30s 34ms/step - loss: 0.0072 - accuracy: 0.9980 - val_loss: 0.0413 - val_accuracy: 0.9911\n",
            "Epoch 43/80\n",
            "880/880 [==============================] - 32s 36ms/step - loss: 0.0067 - accuracy: 0.9982 - val_loss: 0.0442 - val_accuracy: 0.9911\n",
            "Epoch 44/80\n",
            "880/880 [==============================] - 32s 36ms/step - loss: 0.0087 - accuracy: 0.9970 - val_loss: 0.0488 - val_accuracy: 0.9904\n",
            "Epoch 45/80\n",
            "880/880 [==============================] - 32s 36ms/step - loss: 0.0043 - accuracy: 0.9986 - val_loss: 0.0480 - val_accuracy: 0.9912\n",
            "Epoch 46/80\n",
            "880/880 [==============================] - 36s 41ms/step - loss: 0.0088 - accuracy: 0.9969 - val_loss: 0.0443 - val_accuracy: 0.9913\n",
            "Epoch 47/80\n",
            "880/880 [==============================] - 32s 36ms/step - loss: 0.0064 - accuracy: 0.9974 - val_loss: 0.0481 - val_accuracy: 0.9908\n",
            "Epoch 48/80\n",
            "880/880 [==============================] - 32s 36ms/step - loss: 0.0072 - accuracy: 0.9976 - val_loss: 0.0468 - val_accuracy: 0.9916\n",
            "Epoch 49/80\n",
            "880/880 [==============================] - 32s 36ms/step - loss: 0.0077 - accuracy: 0.9972 - val_loss: 0.0447 - val_accuracy: 0.9915\n",
            "Epoch 50/80\n",
            "880/880 [==============================] - 31s 35ms/step - loss: 0.0066 - accuracy: 0.9981 - val_loss: 0.0392 - val_accuracy: 0.9924\n",
            "Epoch 51/80\n",
            "880/880 [==============================] - 31s 35ms/step - loss: 0.0040 - accuracy: 0.9984 - val_loss: 0.0468 - val_accuracy: 0.9921\n",
            "Epoch 52/80\n",
            "880/880 [==============================] - 32s 37ms/step - loss: 0.0063 - accuracy: 0.9978 - val_loss: 0.0545 - val_accuracy: 0.9905\n",
            "Epoch 53/80\n",
            "880/880 [==============================] - 32s 36ms/step - loss: 0.0048 - accuracy: 0.9982 - val_loss: 0.0537 - val_accuracy: 0.9921\n",
            "Epoch 54/80\n",
            "880/880 [==============================] - 32s 36ms/step - loss: 0.0058 - accuracy: 0.9981 - val_loss: 0.0526 - val_accuracy: 0.9916\n",
            "Epoch 55/80\n",
            "880/880 [==============================] - 30s 34ms/step - loss: 0.0064 - accuracy: 0.9978 - val_loss: 0.0454 - val_accuracy: 0.9920\n",
            "Epoch 56/80\n",
            "880/880 [==============================] - 32s 37ms/step - loss: 0.0060 - accuracy: 0.9978 - val_loss: 0.0435 - val_accuracy: 0.9919\n",
            "Epoch 57/80\n",
            "880/880 [==============================] - 31s 35ms/step - loss: 0.0042 - accuracy: 0.9985 - val_loss: 0.0464 - val_accuracy: 0.9913\n",
            "Epoch 58/80\n",
            "880/880 [==============================] - 31s 35ms/step - loss: 0.0069 - accuracy: 0.9979 - val_loss: 0.0483 - val_accuracy: 0.9914\n",
            "Epoch 59/80\n",
            "880/880 [==============================] - 32s 36ms/step - loss: 0.0071 - accuracy: 0.9974 - val_loss: 0.0457 - val_accuracy: 0.9912\n",
            "Epoch 60/80\n",
            "880/880 [==============================] - 32s 36ms/step - loss: 0.0061 - accuracy: 0.9980 - val_loss: 0.0508 - val_accuracy: 0.9909\n",
            "Epoch 61/80\n",
            "880/880 [==============================] - 32s 36ms/step - loss: 0.0061 - accuracy: 0.9982 - val_loss: 0.0511 - val_accuracy: 0.9921\n",
            "Epoch 62/80\n",
            "880/880 [==============================] - 30s 35ms/step - loss: 0.0058 - accuracy: 0.9980 - val_loss: 0.0414 - val_accuracy: 0.9929\n",
            "Epoch 63/80\n",
            "880/880 [==============================] - 32s 36ms/step - loss: 0.0046 - accuracy: 0.9984 - val_loss: 0.0499 - val_accuracy: 0.9922\n",
            "Epoch 64/80\n",
            "880/880 [==============================] - 32s 37ms/step - loss: 0.0053 - accuracy: 0.9983 - val_loss: 0.0467 - val_accuracy: 0.9924\n",
            "Epoch 65/80\n",
            "880/880 [==============================] - 30s 34ms/step - loss: 0.0044 - accuracy: 0.9983 - val_loss: 0.0460 - val_accuracy: 0.9918\n",
            "Epoch 66/80\n",
            "880/880 [==============================] - 31s 35ms/step - loss: 0.0051 - accuracy: 0.9983 - val_loss: 0.0495 - val_accuracy: 0.9919\n",
            "Epoch 67/80\n",
            "880/880 [==============================] - 32s 36ms/step - loss: 0.0045 - accuracy: 0.9981 - val_loss: 0.0538 - val_accuracy: 0.9911\n",
            "Epoch 68/80\n",
            "880/880 [==============================] - 32s 36ms/step - loss: 0.0056 - accuracy: 0.9983 - val_loss: 0.0516 - val_accuracy: 0.9906\n",
            "Epoch 69/80\n",
            "880/880 [==============================] - 32s 36ms/step - loss: 0.0066 - accuracy: 0.9980 - val_loss: 0.0515 - val_accuracy: 0.9912\n",
            "Epoch 70/80\n",
            "880/880 [==============================] - 32s 36ms/step - loss: 0.0056 - accuracy: 0.9977 - val_loss: 0.0515 - val_accuracy: 0.9912\n",
            "Epoch 71/80\n",
            "880/880 [==============================] - 33s 37ms/step - loss: 0.0041 - accuracy: 0.9986 - val_loss: 0.0506 - val_accuracy: 0.9919\n",
            "Epoch 72/80\n",
            "880/880 [==============================] - 32s 36ms/step - loss: 0.0024 - accuracy: 0.9991 - val_loss: 0.0534 - val_accuracy: 0.9915\n",
            "Epoch 73/80\n",
            "880/880 [==============================] - 31s 35ms/step - loss: 0.0044 - accuracy: 0.9984 - val_loss: 0.0549 - val_accuracy: 0.9913\n",
            "Epoch 74/80\n",
            "880/880 [==============================] - 30s 35ms/step - loss: 0.0040 - accuracy: 0.9988 - val_loss: 0.0628 - val_accuracy: 0.9908\n",
            "Epoch 75/80\n",
            "880/880 [==============================] - 32s 36ms/step - loss: 0.0050 - accuracy: 0.9982 - val_loss: 0.0521 - val_accuracy: 0.9911\n",
            "Epoch 76/80\n",
            "880/880 [==============================] - 30s 34ms/step - loss: 0.0056 - accuracy: 0.9983 - val_loss: 0.0497 - val_accuracy: 0.9916\n",
            "Epoch 77/80\n",
            "880/880 [==============================] - 30s 35ms/step - loss: 0.0043 - accuracy: 0.9986 - val_loss: 0.0562 - val_accuracy: 0.9908\n",
            "Epoch 78/80\n",
            "880/880 [==============================] - 32s 36ms/step - loss: 0.0058 - accuracy: 0.9982 - val_loss: 0.0534 - val_accuracy: 0.9921\n",
            "Epoch 79/80\n",
            "880/880 [==============================] - 32s 36ms/step - loss: 0.0045 - accuracy: 0.9986 - val_loss: 0.0479 - val_accuracy: 0.9916\n",
            "Epoch 80/80\n",
            "880/880 [==============================] - 32s 36ms/step - loss: 0.0034 - accuracy: 0.9988 - val_loss: 0.0537 - val_accuracy: 0.9913\n",
            "434/434 [==============================] - 4s 10ms/step - loss: 0.0537 - accuracy: 0.9913\n"
          ]
        }
      ]
    },
    {
      "cell_type": "code",
      "source": [
        "# Plot the performance of the model\n",
        "plt.plot(history.history['loss'])\n",
        "plt.plot(history.history['val_loss'])\n",
        "plt.title('Model loss')\n",
        "plt.ylabel('Loss')\n",
        "plt.xlabel('Epoch')\n",
        "plt.legend(['Train', 'Validation'], loc='upper right')\n",
        "plt.show()\n",
        "\n",
        "plt.plot(history.history['accuracy'])\n",
        "plt.plot(history.history['val_accuracy'])\n",
        "plt.title('Model accuracy')\n",
        "plt.ylabel('Accuracy')\n",
        "plt.xlabel('Epoch')\n",
        "plt.legend(['Train', 'Validation'], loc='lower right')\n",
        "plt.show()"
      ],
      "metadata": {
        "colab": {
          "base_uri": "https://localhost:8080/",
          "height": 573
        },
        "id": "ESQj024uJLV0",
        "outputId": "6c45c7e5-c98b-4940-9c55-0c718acd0ebc"
      },
      "execution_count": null,
      "outputs": [
        {
          "output_type": "display_data",
          "data": {
            "text/plain": [
              "<Figure size 432x288 with 1 Axes>"
            ],
            "image/png": "[encoded data removed]"
          },
          "metadata": {
            "needs_background": "light"
          }
        },
        {
          "output_type": "display_data",
          "data": {
            "text/plain": [
              "<Figure size 432x288 with 1 Axes>"
            ],
            "image/png": "[encoded data removed]"
          },
          "metadata": {
            "needs_background": "light"
          }
        }
      ]
    },
    {
      "cell_type": "code",
      "source": [
        "# Display the result\n",
        "print(Fore.YELLOW + Back.BLACK + f\"Accuracy = {accuracy}\")\n",
        "print(Fore.YELLOW + Back.BLACK + f\"Loss = {loss}\")"
      ],
      "metadata": {
        "colab": {
          "base_uri": "https://localhost:8080/"
        },
        "id": "C3f7khkdJP63",
        "outputId": "9be9acda-65b4-40fc-c83d-8356cbf4f49a"
      },
      "execution_count": null,
      "outputs": [
        {
          "output_type": "stream",
          "name": "stdout",
          "text": [
            "\u001b[33m\u001b[40mAccuracy = 0.9912698268890381\n",
            "\u001b[33m\u001b[40mLoss = 0.05374225601553917\n"
          ]
        }
      ]
    },
    {
      "cell_type": "code",
      "source": [
        "# Pridict\n",
        "predictions = model.predict(X_test)\n",
        "\n",
        "np.argmax(predictions[0])"
      ],
      "metadata": {
        "colab": {
          "base_uri": "https://localhost:8080/"
        },
        "id": "R7Q948uRJS1Q",
        "outputId": "6af472d9-d596-4c99-e0a4-c28520d0172f"
      },
      "execution_count": null,
      "outputs": [
        {
          "output_type": "stream",
          "name": "stdout",
          "text": [
            "434/434 [==============================] - 5s 11ms/step\n"
          ]
        },
        {
          "output_type": "execute_result",
          "data": {
            "text/plain": [
              "8"
            ]
          },
          "metadata": {},
          "execution_count": 28
        }
      ]
    },
    {
      "cell_type": "code",
      "source": [
        "# Display 30 predictions\n",
        "\n",
        "# Set up the subplots\n",
        "fig, axs = plt.subplots(4, 4, figsize=(15, 15))\n",
        "axs = axs.ravel()\n",
        "\n",
        "for i, img in enumerate(X_test[0:16, :]):\n",
        "    axs[i].imshow(img, cmap='gray')\n",
        "    axs[i].axis('off')\n",
        "    axs[i].set_title(f\"True value: {y_test.iloc[i]}\\n Predicted value: {np.argmax(predictions[i])}\")\n",
        "\n",
        "plt.tight_layout()\n",
        "plt.show()"
      ],
      "metadata": {
        "id": "u8dvMTfvJZ_E"
      },
      "execution_count": null,
      "outputs": []
    },
    {
      "cell_type": "code",
      "source": [
        "# Predict on the test_set\n",
        "test_set = test_set.values.reshape(-1, 28, 28, 1)\n",
        "test_preds = model.predict(test_set)\n",
        "\n",
        "# Declare a list to store the predictions\n",
        "final_preds = []\n",
        "\n",
        "# Iterate through predictions and store them in final_preds\n",
        "for i in range(len(test_preds)):\n",
        "    final_preds.append(\"{:.0f}\".format(np.argmax(test_preds[i])))\n",
        "\n",
        "# Convert final_preds to a Data Frame\n",
        "labels = pd.DataFrame(final_preds, columns = ['Label'])\n",
        "\n",
        "# Create a pandas Data Drame to store image ids\n",
        "image_id = pd.DataFrame(range(1, len(test_set)+1), columns=['ImageId'])\n",
        "image_id.head()"
      ],
      "metadata": {
        "colab": {
          "base_uri": "https://localhost:8080/",
          "height": 223
        },
        "id": "GRSbYfZCJh_k",
        "outputId": "9ea3e9cd-6b65-419f-c227-7fd4338fc077"
      },
      "execution_count": null,
      "outputs": [
        {
          "output_type": "stream",
          "name": "stdout",
          "text": [
            "875/875 [==============================] - 10s 11ms/step\n"
          ]
        },
        {
          "output_type": "execute_result",
          "data": {
            "text/plain": [
              "   ImageId\n",
              "0        1\n",
              "1        2\n",
              "2        3\n",
              "3        4\n",
              "4        5"
            ],
            "text/html": [
              "\n",
              "  <div id=\"df-0d39b499-53d7-4db3-bd12-c6f21354395a\">\n",
              "    <div class=\"colab-df-container\">\n",
              "      <div>\n",
              "<style scoped>\n",
              "    .dataframe tbody tr th:only-of-type {\n",
              "        vertical-align: middle;\n",
              "    }\n",
              "\n",
              "    .dataframe tbody tr th {\n",
              "        vertical-align: top;\n",
              "    }\n",
              "\n",
              "    .dataframe thead th {\n",
              "        text-align: right;\n",
              "    }\n",
              "</style>\n",
              "<table border=\"1\" class=\"dataframe\">\n",
              "  <thead>\n",
              "    <tr style=\"text-align: right;\">\n",
              "      <th></th>\n",
              "      <th>ImageId</th>\n",
              "    </tr>\n",
              "  </thead>\n",
              "  <tbody>\n",
              "    <tr>\n",
              "      <th>0</th>\n",
              "      <td>1</td>\n",
              "    </tr>\n",
              "    <tr>\n",
              "      <th>1</th>\n",
              "      <td>2</td>\n",
              "    </tr>\n",
              "    <tr>\n",
              "      <th>2</th>\n",
              "      <td>3</td>\n",
              "    </tr>\n",
              "    <tr>\n",
              "      <th>3</th>\n",
              "      <td>4</td>\n",
              "    </tr>\n",
              "    <tr>\n",
              "      <th>4</th>\n",
              "      <td>5</td>\n",
              "    </tr>\n",
              "  </tbody>\n",
              "</table>\n",
              "</div>\n",
              "      <button class=\"colab-df-convert\" onclick=\"convertToInteractive('df-0d39b499-53d7-4db3-bd12-c6f21354395a')\"\n",
              "              title=\"Convert this dataframe to an interactive table.\"\n",
              "              style=\"display:none;\">\n",
              "        \n",
              "  <svg xmlns=\"http://www.w3.org/2000/svg\" height=\"24px\"viewBox=\"0 0 24 24\"\n",
              "       width=\"24px\">\n",
              "    <path d=\"M0 0h24v24H0V0z\" fill=\"none\"/>\n",
              "    <path d=\"M18.56 5.44l.94 2.06.94-2.06 2.06-.94-2.06-.94-.94-2.06-.94 2.06-2.06.94zm-11 1L8.5 8.5l.94-2.06 2.06-.94-2.06-.94L8.5 2.5l-.94 2.06-2.06.94zm10 10l.94 2.06.94-2.06 2.06-.94-2.06-.94-.94-2.06-.94 2.06-2.06.94z\"/><path d=\"M17.41 7.96l-1.37-1.37c-.4-.4-.92-.59-1.43-.59-.52 0-1.04.2-1.43.59L10.3 9.45l-7.72 7.72c-.78.78-.78 2.05 0 2.83L4 21.41c.39.39.9.59 1.41.59.51 0 1.02-.2 1.41-.59l7.78-7.78 2.81-2.81c.8-.78.8-2.07 0-2.86zM5.41 20L4 18.59l7.72-7.72 1.47 1.35L5.41 20z\"/>\n",
              "  </svg>\n",
              "      </button>\n",
              "      \n",
              "  <style>\n",
              "    .colab-df-container {\n",
              "      display:flex;\n",
              "      flex-wrap:wrap;\n",
              "      gap: 12px;\n",
              "    }\n",
              "\n",
              "    .colab-df-convert {\n",
              "      background-color: #E8F0FE;\n",
              "      border: none;\n",
              "      border-radius: 50%;\n",
              "      cursor: pointer;\n",
              "      display: none;\n",
              "      fill: #1967D2;\n",
              "      height: 32px;\n",
              "      padding: 0 0 0 0;\n",
              "      width: 32px;\n",
              "    }\n",
              "\n",
              "    .colab-df-convert:hover {\n",
              "      background-color: #E2EBFA;\n",
              "      box-shadow: 0px 1px 2px rgba(60, 64, 67, 0.3), 0px 1px 3px 1px rgba(60, 64, 67, 0.15);\n",
              "      fill: #174EA6;\n",
              "    }\n",
              "\n",
              "    [theme=dark] .colab-df-convert {\n",
              "      background-color: #3B4455;\n",
              "      fill: #D2E3FC;\n",
              "    }\n",
              "\n",
              "    [theme=dark] .colab-df-convert:hover {\n",
              "      background-color: #434B5C;\n",
              "      box-shadow: 0px 1px 3px 1px rgba(0, 0, 0, 0.15);\n",
              "      filter: drop-shadow(0px 1px 2px rgba(0, 0, 0, 0.3));\n",
              "      fill: #FFFFFF;\n",
              "    }\n",
              "  </style>\n",
              "\n",
              "      <script>\n",
              "        const buttonEl =\n",
              "          document.querySelector('#df-0d39b499-53d7-4db3-bd12-c6f21354395a button.colab-df-convert');\n",
              "        buttonEl.style.display =\n",
              "          google.colab.kernel.accessAllowed ? 'block' : 'none';\n",
              "\n",
              "        async function convertToInteractive(key) {\n",
              "          const element = document.querySelector('#df-0d39b499-53d7-4db3-bd12-c6f21354395a');\n",
              "          const dataTable =\n",
              "            await google.colab.kernel.invokeFunction('convertToInteractive',\n",
              "                                                     [key], {});\n",
              "          if (!dataTable) return;\n",
              "\n",
              "          const docLinkHtml = 'Like what you see? Visit the ' +\n",
              "            '<a target=\"_blank\" href=https://colab.research.google.com/notebooks/data_table.ipynb>data table notebook</a>'\n",
              "            + ' to learn more about interactive tables.';\n",
              "          element.innerHTML = '';\n",
              "          dataTable['output_type'] = 'display_data';\n",
              "          await google.colab.output.renderOutput(dataTable, element);\n",
              "          const docLink = document.createElement('div');\n",
              "          docLink.innerHTML = docLinkHtml;\n",
              "          element.appendChild(docLink);\n",
              "        }\n",
              "      </script>\n",
              "    </div>\n",
              "  </div>\n",
              "  "
            ]
          },
          "metadata": {},
          "execution_count": 30
        }
      ]
    },
    {
      "cell_type": "code",
      "source": [
        "# Submission\n",
        "submission_preds = pd.concat([image_id, labels], axis=1)\n",
        "submission_preds.head()"
      ],
      "metadata": {
        "colab": {
          "base_uri": "https://localhost:8080/",
          "height": 206
        },
        "id": "4M-_spnkJmnZ",
        "outputId": "3e08c91a-2264-4e2a-bd57-0bc5be750587"
      },
      "execution_count": null,
      "outputs": [
        {
          "output_type": "execute_result",
          "data": {
            "text/plain": [
              "   ImageId Label\n",
              "0        1     2\n",
              "1        2     0\n",
              "2        3     9\n",
              "3        4     9\n",
              "4        5     3"
            ],
            "text/html": [
              "\n",
              "  <div id=\"df-83750571-a7a1-4c96-bcff-ee10fe2a2574\">\n",
              "    <div class=\"colab-df-container\">\n",
              "      <div>\n",
              "<style scoped>\n",
              "    .dataframe tbody tr th:only-of-type {\n",
              "        vertical-align: middle;\n",
              "    }\n",
              "\n",
              "    .dataframe tbody tr th {\n",
              "        vertical-align: top;\n",
              "    }\n",
              "\n",
              "    .dataframe thead th {\n",
              "        text-align: right;\n",
              "    }\n",
              "</style>\n",
              "<table border=\"1\" class=\"dataframe\">\n",
              "  <thead>\n",
              "    <tr style=\"text-align: right;\">\n",
              "      <th></th>\n",
              "      <th>ImageId</th>\n",
              "      <th>Label</th>\n",
              "    </tr>\n",
              "  </thead>\n",
              "  <tbody>\n",
              "    <tr>\n",
              "      <th>0</th>\n",
              "      <td>1</td>\n",
              "      <td>2</td>\n",
              "    </tr>\n",
              "    <tr>\n",
              "      <th>1</th>\n",
              "      <td>2</td>\n",
              "      <td>0</td>\n",
              "    </tr>\n",
              "    <tr>\n",
              "      <th>2</th>\n",
              "      <td>3</td>\n",
              "      <td>9</td>\n",
              "    </tr>\n",
              "    <tr>\n",
              "      <th>3</th>\n",
              "      <td>4</td>\n",
              "      <td>9</td>\n",
              "    </tr>\n",
              "    <tr>\n",
              "      <th>4</th>\n",
              "      <td>5</td>\n",
              "      <td>3</td>\n",
              "    </tr>\n",
              "  </tbody>\n",
              "</table>\n",
              "</div>\n",
              "      <button class=\"colab-df-convert\" onclick=\"convertToInteractive('df-83750571-a7a1-4c96-bcff-ee10fe2a2574')\"\n",
              "              title=\"Convert this dataframe to an interactive table.\"\n",
              "              style=\"display:none;\">\n",
              "        \n",
              "  <svg xmlns=\"http://www.w3.org/2000/svg\" height=\"24px\"viewBox=\"0 0 24 24\"\n",
              "       width=\"24px\">\n",
              "    <path d=\"M0 0h24v24H0V0z\" fill=\"none\"/>\n",
              "    <path d=\"M18.56 5.44l.94 2.06.94-2.06 2.06-.94-2.06-.94-.94-2.06-.94 2.06-2.06.94zm-11 1L8.5 8.5l.94-2.06 2.06-.94-2.06-.94L8.5 2.5l-.94 2.06-2.06.94zm10 10l.94 2.06.94-2.06 2.06-.94-2.06-.94-.94-2.06-.94 2.06-2.06.94z\"/><path d=\"M17.41 7.96l-1.37-1.37c-.4-.4-.92-.59-1.43-.59-.52 0-1.04.2-1.43.59L10.3 9.45l-7.72 7.72c-.78.78-.78 2.05 0 2.83L4 21.41c.39.39.9.59 1.41.59.51 0 1.02-.2 1.41-.59l7.78-7.78 2.81-2.81c.8-.78.8-2.07 0-2.86zM5.41 20L4 18.59l7.72-7.72 1.47 1.35L5.41 20z\"/>\n",
              "  </svg>\n",
              "      </button>\n",
              "      \n",
              "  <style>\n",
              "    .colab-df-container {\n",
              "      display:flex;\n",
              "      flex-wrap:wrap;\n",
              "      gap: 12px;\n",
              "    }\n",
              "\n",
              "    .colab-df-convert {\n",
              "      background-color: #E8F0FE;\n",
              "      border: none;\n",
              "      border-radius: 50%;\n",
              "      cursor: pointer;\n",
              "      display: none;\n",
              "      fill: #1967D2;\n",
              "      height: 32px;\n",
              "      padding: 0 0 0 0;\n",
              "      width: 32px;\n",
              "    }\n",
              "\n",
              "    .colab-df-convert:hover {\n",
              "      background-color: #E2EBFA;\n",
              "      box-shadow: 0px 1px 2px rgba(60, 64, 67, 0.3), 0px 1px 3px 1px rgba(60, 64, 67, 0.15);\n",
              "      fill: #174EA6;\n",
              "    }\n",
              "\n",
              "    [theme=dark] .colab-df-convert {\n",
              "      background-color: #3B4455;\n",
              "      fill: #D2E3FC;\n",
              "    }\n",
              "\n",
              "    [theme=dark] .colab-df-convert:hover {\n",
              "      background-color: #434B5C;\n",
              "      box-shadow: 0px 1px 3px 1px rgba(0, 0, 0, 0.15);\n",
              "      filter: drop-shadow(0px 1px 2px rgba(0, 0, 0, 0.3));\n",
              "      fill: #FFFFFF;\n",
              "    }\n",
              "  </style>\n",
              "\n",
              "      <script>\n",
              "        const buttonEl =\n",
              "          document.querySelector('#df-83750571-a7a1-4c96-bcff-ee10fe2a2574 button.colab-df-convert');\n",
              "        buttonEl.style.display =\n",
              "          google.colab.kernel.accessAllowed ? 'block' : 'none';\n",
              "\n",
              "        async function convertToInteractive(key) {\n",
              "          const element = document.querySelector('#df-83750571-a7a1-4c96-bcff-ee10fe2a2574');\n",
              "          const dataTable =\n",
              "            await google.colab.kernel.invokeFunction('convertToInteractive',\n",
              "                                                     [key], {});\n",
              "          if (!dataTable) return;\n",
              "\n",
              "          const docLinkHtml = 'Like what you see? Visit the ' +\n",
              "            '<a target=\"_blank\" href=https://colab.research.google.com/notebooks/data_table.ipynb>data table notebook</a>'\n",
              "            + ' to learn more about interactive tables.';\n",
              "          element.innerHTML = '';\n",
              "          dataTable['output_type'] = 'display_data';\n",
              "          await google.colab.output.renderOutput(dataTable, element);\n",
              "          const docLink = document.createElement('div');\n",
              "          docLink.innerHTML = docLinkHtml;\n",
              "          element.appendChild(docLink);\n",
              "        }\n",
              "      </script>\n",
              "    </div>\n",
              "  </div>\n",
              "  "
            ]
          },
          "metadata": {},
          "execution_count": 31
        }
      ]
    },
    {
      "cell_type": "code",
      "source": [],
      "metadata": {
        "id": "7AeoHzcBJnN8"
      },
      "execution_count": null,
      "outputs": []
    }
  ]
}